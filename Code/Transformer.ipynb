{
 "cells": [
  {
   "cell_type": "code",
   "execution_count": 1,
   "id": "dfd3cc48",
   "metadata": {},
   "outputs": [
    {
     "name": "stdout",
     "output_type": "stream",
     "text": [
      "Requirement already satisfied: transformers[torch] in c:\\users\\anany\\anaconda3\\lib\\site-packages (4.43.4)\n",
      "Collecting transformers[torch]\n",
      "  Obtaining dependency information for transformers[torch] from https://files.pythonhosted.org/packages/d0/a7/7eedcf6a359e1e1eff3bc204ad022485aa5d88c08e1e3e0e0aee8a2e2235/transformers-4.47.0-py3-none-any.whl.metadata\n",
      "  Using cached transformers-4.47.0-py3-none-any.whl.metadata (43 kB)\n",
      "Requirement already satisfied: filelock in c:\\users\\anany\\anaconda3\\lib\\site-packages (from transformers[torch]) (3.9.0)\n",
      "Requirement already satisfied: huggingface-hub<1.0,>=0.24.0 in c:\\users\\anany\\anaconda3\\lib\\site-packages (from transformers[torch]) (0.24.5)\n",
      "Requirement already satisfied: numpy>=1.17 in c:\\users\\anany\\anaconda3\\lib\\site-packages (from transformers[torch]) (1.24.3)\n",
      "Requirement already satisfied: packaging>=20.0 in c:\\users\\anany\\anaconda3\\lib\\site-packages (from transformers[torch]) (23.1)\n",
      "Requirement already satisfied: pyyaml>=5.1 in c:\\users\\anany\\anaconda3\\lib\\site-packages (from transformers[torch]) (6.0)\n",
      "Requirement already satisfied: regex!=2019.12.17 in c:\\users\\anany\\anaconda3\\lib\\site-packages (from transformers[torch]) (2022.7.9)\n",
      "Requirement already satisfied: requests in c:\\users\\anany\\anaconda3\\lib\\site-packages (from transformers[torch]) (2.31.0)\n",
      "Requirement already satisfied: tokenizers<0.22,>=0.21 in c:\\users\\anany\\anaconda3\\lib\\site-packages (from transformers[torch]) (0.21.0)\n",
      "Requirement already satisfied: safetensors>=0.4.1 in c:\\users\\anany\\anaconda3\\lib\\site-packages (from transformers[torch]) (0.4.4)\n",
      "Requirement already satisfied: tqdm>=4.27 in c:\\users\\anany\\anaconda3\\lib\\site-packages (from transformers[torch]) (4.65.0)\n",
      "Requirement already satisfied: torch in c:\\users\\anany\\anaconda3\\lib\\site-packages (from transformers[torch]) (2.4.0)\n",
      "Requirement already satisfied: accelerate>=0.26.0 in c:\\users\\anany\\anaconda3\\lib\\site-packages (from transformers[torch]) (1.2.0)\n",
      "Requirement already satisfied: psutil in c:\\users\\anany\\anaconda3\\lib\\site-packages (from accelerate>=0.26.0->transformers[torch]) (5.9.0)\n",
      "Requirement already satisfied: fsspec>=2023.5.0 in c:\\users\\anany\\anaconda3\\lib\\site-packages (from huggingface-hub<1.0,>=0.24.0->transformers[torch]) (2024.6.1)\n",
      "Requirement already satisfied: typing-extensions>=3.7.4.3 in c:\\users\\anany\\anaconda3\\lib\\site-packages (from huggingface-hub<1.0,>=0.24.0->transformers[torch]) (4.12.2)\n",
      "Requirement already satisfied: sympy in c:\\users\\anany\\anaconda3\\lib\\site-packages (from torch->transformers[torch]) (1.11.1)\n",
      "Requirement already satisfied: networkx in c:\\users\\anany\\anaconda3\\lib\\site-packages (from torch->transformers[torch]) (3.1)\n",
      "Requirement already satisfied: jinja2 in c:\\users\\anany\\anaconda3\\lib\\site-packages (from torch->transformers[torch]) (3.1.2)\n",
      "Requirement already satisfied: colorama in c:\\users\\anany\\anaconda3\\lib\\site-packages (from tqdm>=4.27->transformers[torch]) (0.4.6)\n",
      "Requirement already satisfied: charset-normalizer<4,>=2 in c:\\users\\anany\\anaconda3\\lib\\site-packages (from requests->transformers[torch]) (2.0.4)\n",
      "Requirement already satisfied: idna<4,>=2.5 in c:\\users\\anany\\anaconda3\\lib\\site-packages (from requests->transformers[torch]) (3.4)\n",
      "Requirement already satisfied: urllib3<3,>=1.21.1 in c:\\users\\anany\\anaconda3\\lib\\site-packages (from requests->transformers[torch]) (1.26.16)\n",
      "Requirement already satisfied: certifi>=2017.4.17 in c:\\users\\anany\\anaconda3\\lib\\site-packages (from requests->transformers[torch]) (2023.7.22)\n",
      "Requirement already satisfied: MarkupSafe>=2.0 in c:\\users\\anany\\anaconda3\\lib\\site-packages (from jinja2->torch->transformers[torch]) (2.1.1)\n",
      "Requirement already satisfied: mpmath>=0.19 in c:\\users\\anany\\anaconda3\\lib\\site-packages (from sympy->torch->transformers[torch]) (1.3.0)\n",
      "Using cached transformers-4.47.0-py3-none-any.whl (10.1 MB)\n",
      "Installing collected packages: transformers\n",
      "  Attempting uninstall: transformers\n",
      "    Found existing installation: transformers 4.43.4\n",
      "    Uninstalling transformers-4.43.4:\n",
      "      Successfully uninstalled transformers-4.43.4\n",
      "Successfully installed transformers-4.47.0\n",
      "Requirement already satisfied: accelerate in c:\\users\\anany\\anaconda3\\lib\\site-packages (1.2.0)\n",
      "Requirement already satisfied: numpy<3.0.0,>=1.17 in c:\\users\\anany\\anaconda3\\lib\\site-packages (from accelerate) (1.24.3)\n",
      "Requirement already satisfied: packaging>=20.0 in c:\\users\\anany\\anaconda3\\lib\\site-packages (from accelerate) (23.1)\n",
      "Requirement already satisfied: psutil in c:\\users\\anany\\anaconda3\\lib\\site-packages (from accelerate) (5.9.0)\n",
      "Requirement already satisfied: pyyaml in c:\\users\\anany\\anaconda3\\lib\\site-packages (from accelerate) (6.0)\n",
      "Requirement already satisfied: torch>=1.10.0 in c:\\users\\anany\\anaconda3\\lib\\site-packages (from accelerate) (2.4.0)\n",
      "Requirement already satisfied: huggingface-hub>=0.21.0 in c:\\users\\anany\\anaconda3\\lib\\site-packages (from accelerate) (0.24.5)\n",
      "Requirement already satisfied: safetensors>=0.4.3 in c:\\users\\anany\\anaconda3\\lib\\site-packages (from accelerate) (0.4.4)\n",
      "Requirement already satisfied: filelock in c:\\users\\anany\\anaconda3\\lib\\site-packages (from huggingface-hub>=0.21.0->accelerate) (3.9.0)\n",
      "Requirement already satisfied: fsspec>=2023.5.0 in c:\\users\\anany\\anaconda3\\lib\\site-packages (from huggingface-hub>=0.21.0->accelerate) (2024.6.1)\n",
      "Requirement already satisfied: requests in c:\\users\\anany\\anaconda3\\lib\\site-packages (from huggingface-hub>=0.21.0->accelerate) (2.31.0)\n",
      "Requirement already satisfied: tqdm>=4.42.1 in c:\\users\\anany\\anaconda3\\lib\\site-packages (from huggingface-hub>=0.21.0->accelerate) (4.65.0)\n",
      "Requirement already satisfied: typing-extensions>=3.7.4.3 in c:\\users\\anany\\anaconda3\\lib\\site-packages (from huggingface-hub>=0.21.0->accelerate) (4.12.2)\n",
      "Requirement already satisfied: sympy in c:\\users\\anany\\anaconda3\\lib\\site-packages (from torch>=1.10.0->accelerate) (1.11.1)\n",
      "Requirement already satisfied: networkx in c:\\users\\anany\\anaconda3\\lib\\site-packages (from torch>=1.10.0->accelerate) (3.1)\n",
      "Requirement already satisfied: jinja2 in c:\\users\\anany\\anaconda3\\lib\\site-packages (from torch>=1.10.0->accelerate) (3.1.2)\n",
      "Requirement already satisfied: colorama in c:\\users\\anany\\anaconda3\\lib\\site-packages (from tqdm>=4.42.1->huggingface-hub>=0.21.0->accelerate) (0.4.6)\n",
      "Requirement already satisfied: MarkupSafe>=2.0 in c:\\users\\anany\\anaconda3\\lib\\site-packages (from jinja2->torch>=1.10.0->accelerate) (2.1.1)\n",
      "Requirement already satisfied: charset-normalizer<4,>=2 in c:\\users\\anany\\anaconda3\\lib\\site-packages (from requests->huggingface-hub>=0.21.0->accelerate) (2.0.4)\n",
      "Requirement already satisfied: idna<4,>=2.5 in c:\\users\\anany\\anaconda3\\lib\\site-packages (from requests->huggingface-hub>=0.21.0->accelerate) (3.4)\n",
      "Requirement already satisfied: urllib3<3,>=1.21.1 in c:\\users\\anany\\anaconda3\\lib\\site-packages (from requests->huggingface-hub>=0.21.0->accelerate) (1.26.16)\n",
      "Requirement already satisfied: certifi>=2017.4.17 in c:\\users\\anany\\anaconda3\\lib\\site-packages (from requests->huggingface-hub>=0.21.0->accelerate) (2023.7.22)\n",
      "Requirement already satisfied: mpmath>=0.19 in c:\\users\\anany\\anaconda3\\lib\\site-packages (from sympy->torch>=1.10.0->accelerate) (1.3.0)\n"
     ]
    }
   ],
   "source": [
    "!pip install transformers[torch] -U\n",
    "!pip install accelerate -U\n"
   ]
  },
  {
   "cell_type": "code",
   "execution_count": 2,
   "id": "d21b59ac",
   "metadata": {},
   "outputs": [
    {
     "name": "stdout",
     "output_type": "stream",
     "text": [
      "C:\\Users\\anany\\anaconda3\\python.exe\n",
      "1.2.0\n"
     ]
    }
   ],
   "source": [
    "import sys\n",
    "print(sys.executable)\n",
    "import accelerate\n",
    "print(accelerate.__version__)"
   ]
  },
  {
   "cell_type": "markdown",
   "id": "27bf6c4d",
   "metadata": {},
   "source": [
    "### The following code is for Train the BERT Transformer."
   ]
  },
  {
   "cell_type": "code",
   "execution_count": 1,
   "id": "528646b8",
   "metadata": {},
   "outputs": [
    {
     "data": {
      "application/vnd.jupyter.widget-view+json": {
       "model_id": "",
       "version_major": 2,
       "version_minor": 0
      },
      "text/plain": [
       "Map:   0%|          | 0/9043 [00:00<?, ? examples/s]"
      ]
     },
     "metadata": {},
     "output_type": "display_data"
    },
    {
     "data": {
      "application/vnd.jupyter.widget-view+json": {
       "model_id": "",
       "version_major": 2,
       "version_minor": 0
      },
      "text/plain": [
       "Map:   0%|          | 0/1005 [00:00<?, ? examples/s]"
      ]
     },
     "metadata": {},
     "output_type": "display_data"
    },
    {
     "name": "stderr",
     "output_type": "stream",
     "text": [
      "Some weights of BertForSequenceClassification were not initialized from the model checkpoint at bert-base-uncased and are newly initialized: ['classifier.bias', 'classifier.weight']\n",
      "You should probably TRAIN this model on a down-stream task to be able to use it for predictions and inference.\n",
      "C:\\Users\\anany\\anaconda3\\Lib\\site-packages\\transformers\\training_args.py:1575: FutureWarning: `evaluation_strategy` is deprecated and will be removed in version 4.46 of 🤗 Transformers. Use `eval_strategy` instead\n",
      "  warnings.warn(\n"
     ]
    },
    {
     "data": {
      "text/html": [],
      "text/plain": [
       "<IPython.core.display.HTML object>"
      ]
     },
     "metadata": {},
     "output_type": "display_data"
    },
    {
     "name": "stdout",
     "output_type": "stream",
     "text": [
      "{'eval_loss': 0.6034886240959167, 'eval_model_preparation_time': 0.0051, 'eval_runtime': 1094.3614, 'eval_samples_per_second': 0.918, 'eval_steps_per_second': 0.058}\n"
     ]
    }
   ],
   "source": [
    "#Work perfect for Traing\n",
    "import pandas as pd\n",
    "from datasets import Dataset\n",
    "from transformers import BertTokenizer, BertForSequenceClassification, Trainer, TrainingArguments\n",
    "\n",
    "# Load the dataset\n",
    "data_path = \"C:\\\\Users\\\\anany\\\\OneDrive\\\\Desktop\\\\MS_Thesis\\\\Results of LLM\\\\Experiments for Runtime\\\\subset_runtime_dataset_transformer.csv\"\n",
    "df = pd.read_csv(data_path)\n",
    "df = df[['SQL_Statement', 'Original']]  # Ensure you're focusing on the right columns\n",
    "df['Original'] = df['Original'].apply(lambda x: 1 if x == 'YES' else 0)  # Convert labels to binary\n",
    "\n",
    "# Convert DataFrame to a Hugging Face Dataset\n",
    "dataset = Dataset.from_pandas(df)\n",
    "dataset = dataset.train_test_split(test_size=0.1)  # Split into training and testing\n",
    "\n",
    "# Tokenization\n",
    "tokenizer = BertTokenizer.from_pretrained('bert-base-uncased')\n",
    "#def preprocess_function(examples):\n",
    "    #return tokenizer(examples['SQL_Statement'], truncation=True, padding=\"max_length\", max_length=512)\n",
    "#tokenized_datasets = dataset.map(preprocess_function, batched=True)\n",
    "\n",
    "\n",
    "def preprocess_function(examples):\n",
    "    # Tokenize the texts and include the labels\n",
    "    result = tokenizer(examples['SQL_Statement'], truncation=True, padding=\"max_length\", max_length=512)\n",
    "    result['labels'] = examples['Original']  # Ensure 'Original' column has your labels and is integer-encoded\n",
    "    return result\n",
    "\n",
    "tokenized_datasets = dataset.map(preprocess_function, batched=True)\n",
    "\n",
    "\n",
    "\n",
    "\n",
    "# Load pre-trained BERT model\n",
    "model = BertForSequenceClassification.from_pretrained('bert-base-uncased', num_labels=2)\n",
    "\n",
    "# Training Arguments\n",
    "training_args = TrainingArguments(\n",
    "    output_dir='./results',\n",
    "    evaluation_strategy=\"epoch\",\n",
    "    learning_rate=3e-5,\n",
    "    per_device_train_batch_size=8,\n",
    "    per_device_eval_batch_size=16,\n",
    "    num_train_epochs=3,\n",
    "    weight_decay=0.01,\n",
    ")\n",
    "\n",
    "# Trainer\n",
    "trainer = Trainer(\n",
    "    model=model,\n",
    "    args=training_args,\n",
    "    train_dataset=tokenized_datasets['train'],\n",
    "    eval_dataset=tokenized_datasets['test'],\n",
    ")\n",
    "\n",
    "# Evaluate the model\n",
    "results = trainer.evaluate()\n",
    "#print(results)\n"
   ]
  },
  {
   "cell_type": "markdown",
   "id": "06dbcb89",
   "metadata": {},
   "source": [
    "### The following code is for Test the Transformer for a single input."
   ]
  },
  {
   "cell_type": "code",
   "execution_count": 2,
   "id": "b46f76e0",
   "metadata": {},
   "outputs": [
    {
     "name": "stdout",
     "output_type": "stream",
     "text": [
      "Predicted labels: ['NO']\n"
     ]
    }
   ],
   "source": [
    "#work perfect for Testing just a single input\n",
    "import numpy as np\n",
    "\n",
    "# Assuming previous steps are already done, and the model is trained\n",
    "\n",
    "# Preprocess new data (this function might already be defined in your script)\n",
    "def preprocess_new_data(new_data):\n",
    "    tokenized_data = tokenizer(new_data, truncation=True, padding=\"max_length\", max_length=512, return_tensors=\"pt\")\n",
    "    return Dataset.from_dict({key: tokenized_data[key].detach().numpy() for key in tokenized_data})\n",
    "\n",
    "# Example new data\n",
    "new_data = [\"select top 12000 p.objid, p.field, p.ra, p.dec, p.b, p.l, p.run, p.mjd, s.plate, s.fiberid, s.z, s.class from specobj as s join photoobj as p on p.objid=s.bestobjid where p.ra between 150 and 240 and p.dec between 0 and 3 and s.z between 0.005 and 0.2 and p.r between 13.5 and 17.7\"]\n",
    "\n",
    "# Process new data\n",
    "new_dataset = preprocess_new_data(new_data)\n",
    "\n",
    "# Get predictions\n",
    "predictions = trainer.predict(new_dataset)\n",
    "\n",
    "# Extract logits and convert them to class predictions\n",
    "logits = predictions.predictions\n",
    "predicted_classes = np.argmax(logits, axis=1)\n",
    "\n",
    "# Convert numeric predictions to labels\n",
    "predicted_labels = ['YES' if label == 1 else 'NO' for label in predicted_classes]\n",
    "\n",
    "# Print the results\n",
    "print(\"Predicted labels:\", predicted_labels)\n"
   ]
  },
  {
   "cell_type": "markdown",
   "id": "1c944ac7",
   "metadata": {},
   "source": [
    "### The following code is for Test the Transformer for a csv file input."
   ]
  },
  {
   "cell_type": "code",
   "execution_count": 1,
   "id": "22a944a6",
   "metadata": {},
   "outputs": [
    {
     "ename": "NameError",
     "evalue": "name 'tokenizer' is not defined",
     "output_type": "error",
     "traceback": [
      "\u001b[1;31m---------------------------------------------------------------------------\u001b[0m",
      "\u001b[1;31mNameError\u001b[0m                                 Traceback (most recent call last)",
      "Cell \u001b[1;32mIn[1], line 18\u001b[0m\n\u001b[0;32m     15\u001b[0m     tokenized_data \u001b[38;5;241m=\u001b[39m tokenizer(new_data, truncation\u001b[38;5;241m=\u001b[39m\u001b[38;5;28;01mTrue\u001b[39;00m, padding\u001b[38;5;241m=\u001b[39m\u001b[38;5;124m\"\u001b[39m\u001b[38;5;124mmax_length\u001b[39m\u001b[38;5;124m\"\u001b[39m, max_length\u001b[38;5;241m=\u001b[39m\u001b[38;5;241m512\u001b[39m, return_tensors\u001b[38;5;241m=\u001b[39m\u001b[38;5;124m\"\u001b[39m\u001b[38;5;124mpt\u001b[39m\u001b[38;5;124m\"\u001b[39m)\n\u001b[0;32m     16\u001b[0m     \u001b[38;5;28;01mreturn\u001b[39;00m Dataset\u001b[38;5;241m.\u001b[39mfrom_dict({key: tokenized_data[key]\u001b[38;5;241m.\u001b[39mdetach()\u001b[38;5;241m.\u001b[39mnumpy() \u001b[38;5;28;01mfor\u001b[39;00m key \u001b[38;5;129;01min\u001b[39;00m tokenized_data})\n\u001b[1;32m---> 18\u001b[0m test_dataset \u001b[38;5;241m=\u001b[39m preprocess_new_data(test_data)\n\u001b[0;32m     20\u001b[0m \u001b[38;5;66;03m# Predict using the trained model\u001b[39;00m\n\u001b[0;32m     21\u001b[0m predictions \u001b[38;5;241m=\u001b[39m trainer\u001b[38;5;241m.\u001b[39mpredict(test_dataset)\n",
      "Cell \u001b[1;32mIn[1], line 15\u001b[0m, in \u001b[0;36mpreprocess_new_data\u001b[1;34m(new_data)\u001b[0m\n\u001b[0;32m     14\u001b[0m \u001b[38;5;28;01mdef\u001b[39;00m \u001b[38;5;21mpreprocess_new_data\u001b[39m(new_data):\n\u001b[1;32m---> 15\u001b[0m     tokenized_data \u001b[38;5;241m=\u001b[39m tokenizer(new_data, truncation\u001b[38;5;241m=\u001b[39m\u001b[38;5;28;01mTrue\u001b[39;00m, padding\u001b[38;5;241m=\u001b[39m\u001b[38;5;124m\"\u001b[39m\u001b[38;5;124mmax_length\u001b[39m\u001b[38;5;124m\"\u001b[39m, max_length\u001b[38;5;241m=\u001b[39m\u001b[38;5;241m512\u001b[39m, return_tensors\u001b[38;5;241m=\u001b[39m\u001b[38;5;124m\"\u001b[39m\u001b[38;5;124mpt\u001b[39m\u001b[38;5;124m\"\u001b[39m)\n\u001b[0;32m     16\u001b[0m     \u001b[38;5;28;01mreturn\u001b[39;00m Dataset\u001b[38;5;241m.\u001b[39mfrom_dict({key: tokenized_data[key]\u001b[38;5;241m.\u001b[39mdetach()\u001b[38;5;241m.\u001b[39mnumpy() \u001b[38;5;28;01mfor\u001b[39;00m key \u001b[38;5;129;01min\u001b[39;00m tokenized_data})\n",
      "\u001b[1;31mNameError\u001b[0m: name 'tokenizer' is not defined"
     ]
    }
   ],
   "source": [
    "import pandas as pd\n",
    "import numpy as np\n",
    "from datasets import Dataset\n",
    "from transformers import BertTokenizer, BertForSequenceClassification, Trainer, TrainingArguments\n",
    "from sklearn.metrics import classification_report\n",
    "\n",
    "# Load the test CSV file\n",
    "data_path = \"C:\\\\Users\\\\anany\\\\OneDrive\\\\Desktop\\\\MS_Thesis\\\\Results of LLM\\\\Experiments for Runtime\\\\sdss_runtime.csv\"\n",
    "df_test = pd.read_csv(data_path)\n",
    "test_data = df_test['SQL_Statement'].tolist()  # Adjust column name as necessary\n",
    "true_labels = df_test['Original'].apply(lambda x: 1 if x == 'YES' else 0).tolist()  # Adjust label processing as necessary\n",
    "\n",
    "# Preprocess the test data\n",
    "def preprocess_new_data(new_data):\n",
    "    tokenized_data = tokenizer(new_data, truncation=True, padding=\"max_length\", max_length=512, return_tensors=\"pt\")\n",
    "    return Dataset.from_dict({key: tokenized_data[key].detach().numpy() for key in tokenized_data})\n",
    "\n",
    "test_dataset = preprocess_new_data(test_data)\n",
    "\n",
    "# Predict using the trained model\n",
    "predictions = trainer.predict(test_dataset)\n",
    "\n",
    "# Extract logits and convert them to class predictions\n",
    "predicted_classes = np.argmax(predictions.predictions, axis=1)\n",
    "\n",
    "# Convert numeric predictions to labels\n",
    "predicted_labels = ['YES' if label == 1 else 'NO' for label in predicted_classes]\n",
    "\n",
    "# Evaluate the results\n",
    "print(\"Predicted labels:\", predicted_labels)\n",
    "print(classification_report(true_labels, predicted_classes, target_names=['NO', 'YES']))\n",
    "\n"
   ]
  },
  {
   "cell_type": "code",
   "execution_count": null,
   "id": "c0fdb141",
   "metadata": {},
   "outputs": [],
   "source": []
  },
  {
   "cell_type": "code",
   "execution_count": null,
   "id": "ba454fe5",
   "metadata": {},
   "outputs": [],
   "source": []
  }
 ],
 "metadata": {
  "kernelspec": {
   "display_name": "Python 3 (ipykernel)",
   "language": "python",
   "name": "python3"
  },
  "language_info": {
   "codemirror_mode": {
    "name": "ipython",
    "version": 3
   },
   "file_extension": ".py",
   "mimetype": "text/x-python",
   "name": "python",
   "nbconvert_exporter": "python",
   "pygments_lexer": "ipython3",
   "version": "3.11.5"
  }
 },
 "nbformat": 4,
 "nbformat_minor": 5
}
